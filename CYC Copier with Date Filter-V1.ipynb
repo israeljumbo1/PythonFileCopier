{
 "cells": [
  {
   "cell_type": "code",
   "execution_count": null,
   "id": "c3885d29-7f6d-4822-8eaf-63aa78231fc0",
   "metadata": {
    "tags": []
   },
   "outputs": [],
   "source": [
    "from glob import glob\n",
    "import shutil\n",
    "import pandas as pd\n",
    "import numpy as np\n",
    "import os"
   ]
  },
  {
   "cell_type": "code",
   "execution_count": null,
   "id": "94e0f90e-7f79-4be6-b8d6-c600f3d41098",
   "metadata": {
    "tags": []
   },
   "outputs": [],
   "source": [
    "dirs1 = input(\"Input Folder Directory to be scanned\")\n",
    "\n",
    "def list_files(dir):                                                                                                  \n",
    "    r = []\n",
    "    subdirs = [x[0] for x in os.walk(dir)]                                                                            \n",
    "    for subdir in subdirs:                                                                                            \n",
    "        files = os.walk(subdir).__next__()[2]                                                                             \n",
    "        if (len(files) > 0):                                                                                          \n",
    "            for file in files:                                                                                        \n",
    "                r.append(os.path.join(subdir, file))                                                                         \n",
    "    return r"
   ]
  },
  {
   "cell_type": "code",
   "execution_count": null,
   "id": "08cec349-4ab6-47ef-85c1-ce30ccb39570",
   "metadata": {
    "scrolled": true,
    "tags": []
   },
   "outputs": [],
   "source": [
    "x = list_files(dirs1)\n",
    "x"
   ]
  },
  {
   "cell_type": "code",
   "execution_count": null,
   "id": "09deaad3-dae9-425b-bb0e-909ca1fa8fff",
   "metadata": {
    "scrolled": true,
    "tags": []
   },
   "outputs": [],
   "source": [
    "x\n",
    "kword = input(\"Input Key word\")\n",
    "#links = list(filter(lambda x:x.contains((\"LP\")), x))\n",
    "links = list(filter(lambda k: kword in k, x))\n",
    "links"
   ]
  },
  {
   "cell_type": "code",
   "execution_count": null,
   "id": "13e6615e-f713-4369-8d69-c1a06502f51f",
   "metadata": {},
   "outputs": [],
   "source": [
    "from datetime import datetime\n",
    "def file_att_implementor(file_list):\n",
    "    modified_time = []\n",
    "    folder_time = []\n",
    "    machine_serial = []\n",
    "    machine_date = []\n",
    "    file_name = []\n",
    "    for x in file_list:\n",
    "        pn_1 = x\n",
    "        mtime = os.path.getmtime(pn_1) #mtime = modified time\n",
    "        mtime = datetime.fromtimestamp(mtime).strftime('%Y-%m-%d %H:%M:%S')#convert seconds into readable date\n",
    "        modified_time.append(mtime) #add the mtime into the modified time list\n",
    "        ftime = pn_1.split(\"\\\\\")\n",
    "        ftime = ftime[-3]\n",
    "        folder_time.append(ftime)\n",
    "        ms = pn_1.split(\"\\\\\")\n",
    "        ms = ms[-4]\n",
    "        file_name_sing = os.path.basename(pn_1)\n",
    "        file_name.append(file_name_sing)\n",
    "        file_org = pd.DataFrame(list(zip(file_list, file_name, modified_time)))\n",
    "        #file_org = file_org.sort_values(by = 2, ascending = False)\n",
    "        \n",
    "    return(file_org)\n"
   ]
  },
  {
   "cell_type": "code",
   "execution_count": null,
   "id": "07506a59-45bb-454b-9e61-323650db09e3",
   "metadata": {},
   "outputs": [],
   "source": [
    "date_start = input(\"Input Date Start\")\n",
    "file_att_links = file_att_implementor(links)\n",
    "file_att = file_att_links.loc[file_att_links[2] > date_start]\n",
    "links2 = file_att[0].to_list()"
   ]
  },
  {
   "cell_type": "code",
   "execution_count": null,
   "id": "72a19220-8063-4f58-8c3a-0f2b14f9468d",
   "metadata": {
    "tags": []
   },
   "outputs": [],
   "source": [
    "dest = input(\"Input Destination folder directory\")\n",
    "\n",
    "for k in links2:  \n",
    "    shutil.copy(k, dest)"
   ]
  },
  {
   "cell_type": "code",
   "execution_count": null,
   "id": "e9c8576f-57ca-460b-bdb8-83ac43712e2b",
   "metadata": {},
   "outputs": [],
   "source": []
  },
  {
   "cell_type": "code",
   "execution_count": null,
   "id": "80595185-4ad6-4fad-a257-fa37993db95c",
   "metadata": {},
   "outputs": [],
   "source": []
  },
  {
   "cell_type": "code",
   "execution_count": null,
   "id": "207bd76b-7c06-4d55-9485-da63df6f85e5",
   "metadata": {},
   "outputs": [],
   "source": []
  },
  {
   "cell_type": "code",
   "execution_count": null,
   "id": "59eddbd6-99e2-4f75-9366-5c220e520c6c",
   "metadata": {},
   "outputs": [],
   "source": []
  },
  {
   "cell_type": "code",
   "execution_count": null,
   "id": "2ad981d7-a58e-4255-8f25-680e2d7bb9cc",
   "metadata": {},
   "outputs": [],
   "source": []
  }
 ],
 "metadata": {
  "kernelspec": {
   "display_name": "Python 3 (ipykernel)",
   "language": "python",
   "name": "python3"
  },
  "language_info": {
   "codemirror_mode": {
    "name": "ipython",
    "version": 3
   },
   "file_extension": ".py",
   "mimetype": "text/x-python",
   "name": "python",
   "nbconvert_exporter": "python",
   "pygments_lexer": "ipython3",
   "version": "3.12.3"
  }
 },
 "nbformat": 4,
 "nbformat_minor": 5
}
